{
 "cells": [
  {
   "cell_type": "markdown",
   "metadata": {},
   "source": [
    "# Selecting a dataset"
   ]
  },
  {
   "cell_type": "code",
   "execution_count": 1,
   "metadata": {},
   "outputs": [
    {
     "name": "stdout",
     "output_type": "stream",
     "text": [
      "           Unique_ID        Rating\n",
      "count   60889.000000  60889.000000\n",
      "mean   140444.000000      4.081148\n",
      "std     17577.284607      1.342067\n",
      "min    110000.000000      1.000000\n",
      "25%    125222.000000      4.000000\n",
      "50%    140444.000000      5.000000\n",
      "75%    155666.000000      5.000000\n",
      "max    170888.000000      5.000000\n"
     ]
    },
    {
     "data": {
      "text/html": [
       "<div>\n",
       "<style scoped>\n",
       "    .dataframe tbody tr th:only-of-type {\n",
       "        vertical-align: middle;\n",
       "    }\n",
       "\n",
       "    .dataframe tbody tr th {\n",
       "        vertical-align: top;\n",
       "    }\n",
       "\n",
       "    .dataframe thead th {\n",
       "        text-align: right;\n",
       "    }\n",
       "</style>\n",
       "<table border=\"1\" class=\"dataframe\">\n",
       "  <thead>\n",
       "    <tr style=\"text-align: right;\">\n",
       "      <th></th>\n",
       "      <th>Unique_ID</th>\n",
       "      <th>Category</th>\n",
       "      <th>Review_Header</th>\n",
       "      <th>Review_text</th>\n",
       "      <th>Rating</th>\n",
       "      <th>Own_Rating</th>\n",
       "    </tr>\n",
       "  </thead>\n",
       "  <tbody>\n",
       "    <tr>\n",
       "      <th>0</th>\n",
       "      <td>136040</td>\n",
       "      <td>smartTv</td>\n",
       "      <td>Nice one</td>\n",
       "      <td>I liked it</td>\n",
       "      <td>5</td>\n",
       "      <td>Positive</td>\n",
       "    </tr>\n",
       "    <tr>\n",
       "      <th>1</th>\n",
       "      <td>134236</td>\n",
       "      <td>mobile</td>\n",
       "      <td>Huge battery life with amazing display</td>\n",
       "      <td>I bought the phone on Amazon and been using my...</td>\n",
       "      <td>5</td>\n",
       "      <td>Positive</td>\n",
       "    </tr>\n",
       "    <tr>\n",
       "      <th>2</th>\n",
       "      <td>113945</td>\n",
       "      <td>books</td>\n",
       "      <td>Four Stars</td>\n",
       "      <td>Awesome book at reasonable price, must buy ......</td>\n",
       "      <td>4</td>\n",
       "      <td>Positive</td>\n",
       "    </tr>\n",
       "    <tr>\n",
       "      <th>3</th>\n",
       "      <td>168076</td>\n",
       "      <td>smartTv</td>\n",
       "      <td>Nice quality</td>\n",
       "      <td>good</td>\n",
       "      <td>5</td>\n",
       "      <td>Positive</td>\n",
       "    </tr>\n",
       "    <tr>\n",
       "      <th>4</th>\n",
       "      <td>157302</td>\n",
       "      <td>books</td>\n",
       "      <td>Nice book</td>\n",
       "      <td>The book is fine,not bad,contains nice concept...</td>\n",
       "      <td>3</td>\n",
       "      <td>Neutral</td>\n",
       "    </tr>\n",
       "  </tbody>\n",
       "</table>\n",
       "</div>"
      ],
      "text/plain": [
       "   Unique_ID Category                           Review_Header  \\\n",
       "0     136040  smartTv                                Nice one   \n",
       "1     134236   mobile  Huge battery life with amazing display   \n",
       "2     113945    books                              Four Stars   \n",
       "3     168076  smartTv                            Nice quality   \n",
       "4     157302    books                               Nice book   \n",
       "\n",
       "                                         Review_text  Rating Own_Rating  \n",
       "0                                         I liked it       5   Positive  \n",
       "1  I bought the phone on Amazon and been using my...       5   Positive  \n",
       "2  Awesome book at reasonable price, must buy ......       4   Positive  \n",
       "3                                               good       5   Positive  \n",
       "4  The book is fine,not bad,contains nice concept...       3    Neutral  "
      ]
     },
     "execution_count": 1,
     "metadata": {},
     "output_type": "execute_result"
    }
   ],
   "source": [
    "import pandas as pd\n",
    "import matplotlib.pyplot as plt\n",
    "import seaborn as sns\n",
    "\n",
    "# download data\n",
    "data = pd.read_csv('Amazon Review Data Web Scrapping - Amazon Review Data Web Scrapping.csv')\n",
    "print(data.describe())\n",
    "data.head()\n"
   ]
  },
  {
   "cell_type": "code",
   "execution_count": 2,
   "metadata": {},
   "outputs": [
    {
     "name": "stdout",
     "output_type": "stream",
     "text": [
      "Number of rows in the DataFrame: 60889\n"
     ]
    }
   ],
   "source": [
    "num_rows = data.shape[0]\n",
    "print(\"Number of rows in the DataFrame:\", num_rows)\n"
   ]
  },
  {
   "cell_type": "markdown",
   "metadata": {},
   "source": [
    "#  Exploring the data."
   ]
  },
  {
   "cell_type": "code",
   "execution_count": 3,
   "metadata": {},
   "outputs": [
    {
     "data": {
      "text/html": [
       "<div>\n",
       "<style scoped>\n",
       "    .dataframe tbody tr th:only-of-type {\n",
       "        vertical-align: middle;\n",
       "    }\n",
       "\n",
       "    .dataframe tbody tr th {\n",
       "        vertical-align: top;\n",
       "    }\n",
       "\n",
       "    .dataframe thead th {\n",
       "        text-align: right;\n",
       "    }\n",
       "</style>\n",
       "<table border=\"1\" class=\"dataframe\">\n",
       "  <thead>\n",
       "    <tr style=\"text-align: right;\">\n",
       "      <th></th>\n",
       "      <th>Unique_ID</th>\n",
       "      <th>Category</th>\n",
       "      <th>Review_Header</th>\n",
       "      <th>Review_text</th>\n",
       "      <th>Rating</th>\n",
       "      <th>Own_Rating</th>\n",
       "      <th>sentiments_numeric</th>\n",
       "    </tr>\n",
       "  </thead>\n",
       "  <tbody>\n",
       "    <tr>\n",
       "      <th>0</th>\n",
       "      <td>136040</td>\n",
       "      <td>smartTv</td>\n",
       "      <td>Nice one</td>\n",
       "      <td>I liked it</td>\n",
       "      <td>5</td>\n",
       "      <td>Positive</td>\n",
       "      <td>1</td>\n",
       "    </tr>\n",
       "    <tr>\n",
       "      <th>1</th>\n",
       "      <td>134236</td>\n",
       "      <td>mobile</td>\n",
       "      <td>Huge battery life with amazing display</td>\n",
       "      <td>I bought the phone on Amazon and been using my...</td>\n",
       "      <td>5</td>\n",
       "      <td>Positive</td>\n",
       "      <td>1</td>\n",
       "    </tr>\n",
       "    <tr>\n",
       "      <th>2</th>\n",
       "      <td>113945</td>\n",
       "      <td>books</td>\n",
       "      <td>Four Stars</td>\n",
       "      <td>Awesome book at reasonable price, must buy ......</td>\n",
       "      <td>4</td>\n",
       "      <td>Positive</td>\n",
       "      <td>1</td>\n",
       "    </tr>\n",
       "    <tr>\n",
       "      <th>3</th>\n",
       "      <td>168076</td>\n",
       "      <td>smartTv</td>\n",
       "      <td>Nice quality</td>\n",
       "      <td>good</td>\n",
       "      <td>5</td>\n",
       "      <td>Positive</td>\n",
       "      <td>1</td>\n",
       "    </tr>\n",
       "    <tr>\n",
       "      <th>4</th>\n",
       "      <td>157302</td>\n",
       "      <td>books</td>\n",
       "      <td>Nice book</td>\n",
       "      <td>The book is fine,not bad,contains nice concept...</td>\n",
       "      <td>3</td>\n",
       "      <td>Neutral</td>\n",
       "      <td>2</td>\n",
       "    </tr>\n",
       "  </tbody>\n",
       "</table>\n",
       "</div>"
      ],
      "text/plain": [
       "   Unique_ID Category                           Review_Header  \\\n",
       "0     136040  smartTv                                Nice one   \n",
       "1     134236   mobile  Huge battery life with amazing display   \n",
       "2     113945    books                              Four Stars   \n",
       "3     168076  smartTv                            Nice quality   \n",
       "4     157302    books                               Nice book   \n",
       "\n",
       "                                         Review_text  Rating Own_Rating  \\\n",
       "0                                         I liked it       5   Positive   \n",
       "1  I bought the phone on Amazon and been using my...       5   Positive   \n",
       "2  Awesome book at reasonable price, must buy ......       4   Positive   \n",
       "3                                               good       5   Positive   \n",
       "4  The book is fine,not bad,contains nice concept...       3    Neutral   \n",
       "\n",
       "   sentiments_numeric  \n",
       "0                   1  \n",
       "1                   1  \n",
       "2                   1  \n",
       "3                   1  \n",
       "4                   2  "
      ]
     },
     "execution_count": 3,
     "metadata": {},
     "output_type": "execute_result"
    }
   ],
   "source": [
    "# Create a mapping of sentiments to numeric values\n",
    "sentiment_mapping = {\"Positive\": 1, \"Neutral\": 2, \"Negative\": 3}\n",
    "# Apply the mapping to the data\n",
    "data['sentiments_numeric'] = data['Own_Rating'].map(sentiment_mapping)\n",
    "data.head()"
   ]
  },
  {
   "cell_type": "code",
   "execution_count": 4,
   "metadata": {},
   "outputs": [
    {
     "data": {
      "text/plain": [
       "1    47436\n",
       "3     9087\n",
       "2     4366\n",
       "Name: sentiments_numeric, dtype: int64"
      ]
     },
     "execution_count": 4,
     "metadata": {},
     "output_type": "execute_result"
    }
   ],
   "source": [
    "data['sentiments_numeric'].value_counts()"
   ]
  },
  {
   "cell_type": "code",
   "execution_count": 5,
   "metadata": {},
   "outputs": [
    {
     "data": {
      "text/plain": [
       "<BarContainer object of 3 artists>"
      ]
     },
     "execution_count": 5,
     "metadata": {},
     "output_type": "execute_result"
    },
    {
     "data": {
      "image/png": "[encoded data removed]",
      "text/plain": [
       "<Figure size 640x480 with 1 Axes>"
      ]
     },
     "metadata": {},
     "output_type": "display_data"
    }
   ],
   "source": [
    "plt.bar(data['sentiments_numeric'].value_counts().index, data['sentiments_numeric'].value_counts().values)"
   ]
  },
  {
   "cell_type": "code",
   "execution_count": 6,
   "metadata": {},
   "outputs": [
    {
     "name": "stdout",
     "output_type": "stream",
     "text": [
      "Unique_ID              0\n",
      "Category               0\n",
      "Review_Header          3\n",
      "Review_text           28\n",
      "Rating                 0\n",
      "Own_Rating             0\n",
      "sentiments_numeric     0\n",
      "dtype: int64\n"
     ]
    }
   ],
   "source": [
    "# Check for missing values\n",
    "print(data.isnull().sum())\n"
   ]
  },
  {
   "cell_type": "markdown",
   "metadata": {},
   "source": [
    "All the columns have no missing values except for the Review_header and Review_text columns.\n",
    "The column Review_text, which we are using in the analysis, has 28 missing values which means that there are 28 rows in the dataset where the Review_text column does not have a value."
   ]
  },
  {
   "cell_type": "markdown",
   "metadata": {},
   "source": [
    "# Assemble a preprocessing script."
   ]
  },
  {
   "cell_type": "markdown",
   "metadata": {},
   "source": [
    "The preprocessing script is in a seperate python file, but here is an explanation justifying the choices made to preprocess the reviews text."
   ]
  },
  {
   "cell_type": "markdown",
   "metadata": {},
   "source": [
    "For Amazon reviews specifically, these preprocessing steps are chosen because they help make the reviews text more consistent, cleaner, and easier to work with for sentiment analysis. These preprocessing steps can make the sentiment signals more apparent and reduce irrelevant information. \n",
    "I used : \n",
    "- Removing URLs: URLs often don't contain meaningful information in the context of text analysis so I considered removing them in case we have a review with an URL.\n",
    "- Tokenization: is splitting text into individual words or tokens. It is very important for sentiment analysis that I am willing to do because. It helps understand the sentiment associated with specific words or phrases.\n",
    "- Converting to Lowercase: Converting all text to lowercase is usefull so that the model doesn't treat \"word\" and \"Word\" as two different words.\n",
    "- Removing Stopwords: Stopwords are common words like \"and,\" \"the,\" \"in,\" ..., they don't carry significant meaning for sentiment analysis.\n",
    "- Lemmatization: Lemmatization reduces words to their base or root form. This is important to make sure that related words are treated as the same word."
   ]
  }
 ],
 "metadata": {
  "kernelspec": {
   "display_name": "base",
   "language": "python",
   "name": "python3"
  },
  "language_info": {
   "codemirror_mode": {
    "name": "ipython",
    "version": 3
   },
   "file_extension": ".py",
   "mimetype": "text/x-python",
   "name": "python",
   "nbconvert_exporter": "python",
   "pygments_lexer": "ipython3",
   "version": "3.10.8"
  }
 },
 "nbformat": 4,
 "nbformat_minor": 2
}
